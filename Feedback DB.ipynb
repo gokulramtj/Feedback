{
 "cells": [
  {
   "cell_type": "code",
   "execution_count": 1,
   "metadata": {},
   "outputs": [
    {
     "ename": "ModuleNotFoundError",
     "evalue": "No module named 'pymysql'",
     "output_type": "error",
     "traceback": [
      "\u001b[0;31m---------------------------------------------------------------------------\u001b[0m",
      "\u001b[0;31mModuleNotFoundError\u001b[0m                       Traceback (most recent call last)",
      "\u001b[0;32m<ipython-input-1-8748c87b3097>\u001b[0m in \u001b[0;36m<module>\u001b[0;34m()\u001b[0m\n\u001b[0;32m----> 1\u001b[0;31m \u001b[0;32mimport\u001b[0m \u001b[0mpymysql\u001b[0m\u001b[0;34m\u001b[0m\u001b[0m\n\u001b[0m",
      "\u001b[0;31mModuleNotFoundError\u001b[0m: No module named 'pymysql'"
     ]
    }
   ],
   "source": [
    "import pymysql"
   ]
  },
  {
   "cell_type": "code",
   "execution_count": 1,
   "metadata": {
    "scrolled": true
   },
   "outputs": [
    {
     "ename": "ModuleNotFoundError",
     "evalue": "No module named 'pymysql'",
     "output_type": "error",
     "traceback": [
      "\u001b[0;31m---------------------------------------------------------------------------\u001b[0m",
      "\u001b[0;31mModuleNotFoundError\u001b[0m                       Traceback (most recent call last)",
      "\u001b[0;32m<ipython-input-1-9cd770f27c67>\u001b[0m in \u001b[0;36m<module>\u001b[0;34m()\u001b[0m\n\u001b[0;32m----> 1\u001b[0;31m \u001b[0;32mimport\u001b[0m \u001b[0mpymysql\u001b[0m\u001b[0;34m\u001b[0m\u001b[0m\n\u001b[0m\u001b[1;32m      2\u001b[0m \u001b[0;32mimport\u001b[0m \u001b[0mrandom\u001b[0m \u001b[0;32mas\u001b[0m \u001b[0mrd\u001b[0m\u001b[0;34m\u001b[0m\u001b[0m\n\u001b[1;32m      3\u001b[0m \u001b[0mdb\u001b[0m \u001b[0;34m=\u001b[0m \u001b[0mpymysql\u001b[0m\u001b[0;34m.\u001b[0m\u001b[0mconnect\u001b[0m\u001b[0;34m(\u001b[0m\u001b[0;34m\"localhost\"\u001b[0m\u001b[0;34m,\u001b[0m\u001b[0;34m\"root\"\u001b[0m\u001b[0;34m,\u001b[0m\u001b[0;34m\"root\"\u001b[0m\u001b[0;34m,\u001b[0m\u001b[0;34m\"Feedbackdb\"\u001b[0m \u001b[0;34m)\u001b[0m\u001b[0;34m\u001b[0m\u001b[0m\n\u001b[1;32m      4\u001b[0m \u001b[0mcursor\u001b[0m \u001b[0;34m=\u001b[0m \u001b[0mdb\u001b[0m\u001b[0;34m.\u001b[0m\u001b[0mcursor\u001b[0m\u001b[0;34m(\u001b[0m\u001b[0;34m)\u001b[0m\u001b[0;34m\u001b[0m\u001b[0m\n\u001b[1;32m      5\u001b[0m \u001b[0mcursor\u001b[0m\u001b[0;34m.\u001b[0m\u001b[0mexecute\u001b[0m\u001b[0;34m(\u001b[0m\u001b[0;34m\"SELECT VERSION()\"\u001b[0m\u001b[0;34m)\u001b[0m\u001b[0;34m\u001b[0m\u001b[0m\n",
      "\u001b[0;31mModuleNotFoundError\u001b[0m: No module named 'pymysql'"
     ]
    }
   ],
   "source": [
    "import pymysql\n",
    "import random as rd\n",
    "db = pymysql.connect(\"localhost\",\"root\",\"root\",\"Feedbackdb\" )\n",
    "cursor = db.cursor()\n",
    "cursor.execute(\"SELECT VERSION()\")\n",
    "\n",
    "# Fetch a single row using fetchone() method.\n",
    "data = cursor.fetchone()\n",
    "print (\"Database version : %s \" % data)\n",
    "cursor.execute(\"SELECT VERSION()\")\n",
    "# disconnect from server\n",
    "db.close()\n",
    "\n",
    "\n"
   ]
  },
  {
   "cell_type": "code",
   "execution_count": 10,
   "metadata": {},
   "outputs": [
    {
     "name": "stdout",
     "output_type": "stream",
     "text": [
      "2013-08-12 21:27:30\n",
      "2013-24-12 02:50:18\n",
      "2013-28-12 04:19:36\n",
      "2013-07-12 18:52:38\n",
      "2013-17-12 05:52:37\n",
      "2013-05-12 22:39:59\n",
      "2013-03-12 19:35:21\n",
      "2013-03-12 23:11:25\n",
      "2013-22-12 12:45:30\n",
      "2013-26-12 04:10:58\n"
     ]
    }
   ],
   "source": [
    "day=['01','02','03','04','05','06','07','08','09','10','11','12','13','14','15','16','17','18','19','20','21','22','23','24','25','26','27','28','29']\n",
    "hour = ['01','02','03','04','05','06','07','08','09','10','11','12','13','14','15','16','17','18','19','20','21','22','23']\n",
    "ms = list(hour)\n",
    "\n",
    "for j in range(60):\n",
    "    if j not in ms and j>24:\n",
    "        ms.append(j)\n",
    "for i in range(10):\n",
    "    faketimestamp='2013-'+str(rd.choice(day))+'-12 '+str(rd.choice(hour))+':'+str(rd.choice(ms))+':'+str(rd.choice(ms))\n",
    "    print(faketimestamp)\n"
   ]
  },
  {
   "cell_type": "code",
   "execution_count": 23,
   "metadata": {},
   "outputs": [
    {
     "name": "stdout",
     "output_type": "stream",
     "text": [
      "2013-12-26 14:53:05\n",
      "2013-12-03 04:17:39\n",
      "2013-12-06 14:07:04\n",
      "2013-12-25 17:23:04\n",
      "2013-12-01 16:55:53\n",
      "2013-12-18 11:55:03\n",
      "2013-12-04 20:25:32\n",
      "2013-12-29 12:19:58\n",
      "2013-12-03 11:25:34\n",
      "2013-12-17 05:46:14\n",
      "2013-12-08 03:59:55\n",
      "2013-12-23 20:31:48\n",
      "2013-12-27 22:33:09\n",
      "2013-12-27 12:59:28\n",
      "2013-12-07 13:54:15\n",
      "2013-12-02 11:58:13\n",
      "2013-12-06 11:20:42\n",
      "2013-12-22 07:21:25\n",
      "2013-12-08 21:57:18\n",
      "2013-12-28 01:31:43\n"
     ]
    }
   ],
   "source": [
    "import pymysql\n",
    "db = pymysql.connect(\"localhost\",\"root\",\"root\",\"Feedbackdb\" )\n",
    "cursor = db.cursor()\n",
    "\n",
    "\n",
    "\n",
    "day=['01','02','03','04','05','06','07','08','09','10','11','12','13','14','15','16','17','18','19','20','21','22','23','24','25','26','27','28','29']\n",
    "hour = ['01','02','03','04','05','06','07','08','09','10','11','12','13','14','15','16','17','18','19','20','21','22','23']\n",
    "ms = list(hour)\n",
    "for j in range(60):\n",
    "    if j not in ms and j>24:\n",
    "        ms.append(j)\n",
    "\n",
    "        \n",
    "\n",
    "w = [1,2,3]\n",
    "for i in range(20):\n",
    "    faketimestamp='2013-12-'+str(rd.choice(day))+' '+str(rd.choice(hour))+':'+str(rd.choice(ms))+':'+str(rd.choice(ms))\n",
    "\n",
    "    print(faketimestamp)\n",
    "\n",
    "    sql = \"INSERT INTO feedback VALUES(NULL,1,1,'%d','%d','%d','%d','%d','%d','%s')\" % \\\n",
    "       (rd.choices(w,weights=[1,65,65])[0],rd.choices(w,weights=[1,65,65])[0],rd.choices(w,weights=[1,65,65])[0],rd.choices(w,weights=[1,65,65])[0],rd.choices(w,weights=[1,65,65])[0],rd.choices(w,weights=[1,65,65])[0],faketimestamp)\n",
    "    try:\n",
    "       # Execute the SQL command\n",
    "       cursor.execute(sql)\n",
    "       # Commit your changes in the database\n",
    "       db.commit()\n",
    "    except:\n",
    "       # Rollback in case there is any error\n",
    "       db.rollback()\n",
    "\n",
    "# disconnect from server\n",
    "db.close()"
   ]
  }
 ],
 "metadata": {
  "kernelspec": {
   "display_name": "Python 3",
   "language": "python",
   "name": "python3"
  },
  "language_info": {
   "codemirror_mode": {
    "name": "ipython",
    "version": 3
   },
   "file_extension": ".py",
   "mimetype": "text/x-python",
   "name": "python",
   "nbconvert_exporter": "python",
   "pygments_lexer": "ipython3",
   "version": "3.6.4"
  }
 },
 "nbformat": 4,
 "nbformat_minor": 2
}
